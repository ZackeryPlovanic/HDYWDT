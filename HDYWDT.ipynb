{
  "nbformat": 4,
  "nbformat_minor": 0,
  "metadata": {
    "colab": {
      "name": "HDYWDT.ipynb",
      "version": "0.3.2",
      "provenance": [],
      "include_colab_link": true
    },
    "kernelspec": {
      "name": "python3",
      "display_name": "Python 3"
    }
  },
  "cells": [
    {
      "cell_type": "markdown",
      "metadata": {
        "id": "view-in-github",
        "colab_type": "text"
      },
      "source": [
        "<a href=\"https://colab.research.google.com/github/ZackeryPlovanic/HDYWDT/blob/master/HDYWDT.ipynb\" target=\"_parent\"><img src=\"https://colab.research.google.com/assets/colab-badge.svg\" alt=\"Open In Colab\"/></a>"
      ]
    },
    {
      "metadata": {
        "id": "9LiMcpUJ0LaV",
        "colab_type": "code",
        "outputId": "61d62c92-25e2-4cea-bd64-7ba0aa84ad57",
        "colab": {
          "base_uri": "https://localhost:8080/",
          "height": 156
        }
      },
      "cell_type": "code",
      "source": [
        "import os\n",
        "import glob\n",
        "import codecs\n",
        "import re\n",
        "from heapq import nlargest\n",
        "from functools import reduce\n",
        "from collections import Counter\n",
        "from collections import defaultdict\n",
        "\n",
        "from google.colab import files\n",
        "\n",
        "!pip install -U -q PyDrive\n",
        "from pydrive.auth import GoogleAuth\n",
        "from pydrive.drive import GoogleDrive\n",
        "from google.colab import auth\n",
        "from oauth2client.client import GoogleCredentials\n",
        "\n",
        "from google.colab import drive\n",
        "drive.mount('/content/drive')"
      ],
      "execution_count": 0,
      "outputs": [
        {
          "output_type": "stream",
          "text": [
            "\u001b[?25l\r\u001b[K    1% |▎                               | 10kB 20.5MB/s eta 0:00:01\r\u001b[K    2% |▋                               | 20kB 3.3MB/s eta 0:00:01\r\u001b[K    3% |█                               | 30kB 4.8MB/s eta 0:00:01\r\u001b[K    4% |█▎                              | 40kB 3.0MB/s eta 0:00:01\r\u001b[K    5% |█▋                              | 51kB 3.7MB/s eta 0:00:01\r\u001b[K    6% |██                              | 61kB 4.4MB/s eta 0:00:01\r\u001b[K    7% |██▎                             | 71kB 5.0MB/s eta 0:00:01\r\u001b[K    8% |██▋                             | 81kB 5.6MB/s eta 0:00:01\r\u001b[K    9% |███                             | 92kB 6.2MB/s eta 0:00:01\r\u001b[K    10% |███▎                            | 102kB 4.7MB/s eta 0:00:01\r\u001b[K    11% |███▋                            | 112kB 4.7MB/s eta 0:00:01\r\u001b[K    12% |████                            | 122kB 6.3MB/s eta 0:00:01\r\u001b[K    13% |████▎                           | 133kB 6.3MB/s eta 0:00:01\r\u001b[K    14% |████▋                           | 143kB 10.9MB/s eta 0:00:01\r\u001b[K    15% |█████                           | 153kB 10.8MB/s eta 0:00:01\r\u001b[K    16% |█████▎                          | 163kB 10.4MB/s eta 0:00:01\r\u001b[K    17% |█████▋                          | 174kB 10.3MB/s eta 0:00:01\r\u001b[K    18% |██████                          | 184kB 10.3MB/s eta 0:00:01\r\u001b[K    19% |██████▎                         | 194kB 10.2MB/s eta 0:00:01\r\u001b[K    20% |██████▋                         | 204kB 13.6MB/s eta 0:00:01\r\u001b[K    21% |███████                         | 215kB 13.8MB/s eta 0:00:01\r\u001b[K    22% |███████▎                        | 225kB 13.9MB/s eta 0:00:01\r\u001b[K    23% |███████▋                        | 235kB 14.2MB/s eta 0:00:01\r\u001b[K    24% |████████                        | 245kB 14.2MB/s eta 0:00:01\r\u001b[K    25% |████████▎                       | 256kB 14.8MB/s eta 0:00:01\r\u001b[K    26% |████████▋                       | 266kB 14.8MB/s eta 0:00:01\r\u001b[K    27% |█████████                       | 276kB 15.2MB/s eta 0:00:01\r\u001b[K    29% |█████████▎                      | 286kB 15.6MB/s eta 0:00:01\r\u001b[K    30% |█████████▋                      | 296kB 15.7MB/s eta 0:00:01\r\u001b[K    31% |██████████                      | 307kB 44.0MB/s eta 0:00:01\r\u001b[K    32% |██████████▎                     | 317kB 45.7MB/s eta 0:00:01\r\u001b[K    33% |██████████▋                     | 327kB 45.4MB/s eta 0:00:01\r\u001b[K    34% |███████████                     | 337kB 46.6MB/s eta 0:00:01\r\u001b[K    35% |███████████▎                    | 348kB 42.2MB/s eta 0:00:01\r\u001b[K    36% |███████████▋                    | 358kB 40.8MB/s eta 0:00:01\r\u001b[K    37% |████████████                    | 368kB 47.8MB/s eta 0:00:01\r\u001b[K    38% |████████████▎                   | 378kB 48.4MB/s eta 0:00:01\r\u001b[K    39% |████████████▋                   | 389kB 49.4MB/s eta 0:00:01\r\u001b[K    40% |█████████████                   | 399kB 50.6MB/s eta 0:00:01\r\u001b[K    41% |█████████████▎                  | 409kB 51.1MB/s eta 0:00:01\r\u001b[K    42% |█████████████▋                  | 419kB 53.4MB/s eta 0:00:01\r\u001b[K    43% |██████████████                  | 430kB 25.4MB/s eta 0:00:01\r\u001b[K    44% |██████████████▎                 | 440kB 25.2MB/s eta 0:00:01\r\u001b[K    45% |██████████████▋                 | 450kB 25.5MB/s eta 0:00:01\r\u001b[K    46% |███████████████                 | 460kB 15.4MB/s eta 0:00:01\r\u001b[K    47% |███████████████▎                | 471kB 15.3MB/s eta 0:00:01\r\u001b[K    48% |███████████████▋                | 481kB 15.2MB/s eta 0:00:01\r\u001b[K    49% |████████████████                | 491kB 15.0MB/s eta 0:00:01\r\u001b[K    50% |████████████████▎               | 501kB 14.9MB/s eta 0:00:01\r\u001b[K    51% |████████████████▋               | 512kB 14.3MB/s eta 0:00:01\r\u001b[K    52% |█████████████████               | 522kB 14.2MB/s eta 0:00:01\r\u001b[K    53% |█████████████████▎              | 532kB 20.1MB/s eta 0:00:01\r\u001b[K    54% |█████████████████▋              | 542kB 20.2MB/s eta 0:00:01\r\u001b[K    55% |██████████████████              | 552kB 21.2MB/s eta 0:00:01\r\u001b[K    57% |██████████████████▎             | 563kB 47.9MB/s eta 0:00:01\r\u001b[K    58% |██████████████████▋             | 573kB 48.5MB/s eta 0:00:01\r\u001b[K    59% |███████████████████             | 583kB 49.3MB/s eta 0:00:01\r\u001b[K    60% |███████████████████▎            | 593kB 50.8MB/s eta 0:00:01\r\u001b[K    61% |███████████████████▋            | 604kB 51.4MB/s eta 0:00:01\r\u001b[K    62% |████████████████████            | 614kB 60.8MB/s eta 0:00:01\r\u001b[K    63% |████████████████████▎           | 624kB 61.0MB/s eta 0:00:01\r\u001b[K    64% |████████████████████▋           | 634kB 61.3MB/s eta 0:00:01\r\u001b[K    65% |█████████████████████           | 645kB 57.6MB/s eta 0:00:01\r\u001b[K    66% |█████████████████████▎          | 655kB 56.6MB/s eta 0:00:01\r\u001b[K    67% |█████████████████████▋          | 665kB 42.9MB/s eta 0:00:01\r\u001b[K    68% |██████████████████████          | 675kB 42.5MB/s eta 0:00:01\r\u001b[K    69% |██████████████████████▎         | 686kB 43.1MB/s eta 0:00:01\r\u001b[K    70% |██████████████████████▋         | 696kB 43.3MB/s eta 0:00:01\r\u001b[K    71% |███████████████████████         | 706kB 42.9MB/s eta 0:00:01\r\u001b[K    72% |███████████████████████▎        | 716kB 43.3MB/s eta 0:00:01\r\u001b[K    73% |███████████████████████▋        | 727kB 43.6MB/s eta 0:00:01\r\u001b[K    74% |████████████████████████        | 737kB 43.3MB/s eta 0:00:01\r\u001b[K    75% |████████████████████████▎       | 747kB 45.6MB/s eta 0:00:01\r\u001b[K    76% |████████████████████████▋       | 757kB 45.2MB/s eta 0:00:01\r\u001b[K    77% |████████████████████████▉       | 768kB 61.3MB/s eta 0:00:01\r\u001b[K    78% |█████████████████████████▏      | 778kB 63.3MB/s eta 0:00:01\r\u001b[K    79% |█████████████████████████▌      | 788kB 61.2MB/s eta 0:00:01\r\u001b[K    80% |█████████████████████████▉      | 798kB 60.9MB/s eta 0:00:01\r\u001b[K    81% |██████████████████████████▏     | 808kB 61.1MB/s eta 0:00:01\r\u001b[K    82% |██████████████████████████▌     | 819kB 60.3MB/s eta 0:00:01\r\u001b[K    83% |██████████████████████████▉     | 829kB 60.0MB/s eta 0:00:01\r\u001b[K    85% |███████████████████████████▏    | 839kB 58.5MB/s eta 0:00:01\r\u001b[K    86% |███████████████████████████▌    | 849kB 58.6MB/s eta 0:00:01\r\u001b[K    87% |███████████████████████████▉    | 860kB 50.4MB/s eta 0:00:01\r\u001b[K    88% |████████████████████████████▏   | 870kB 50.0MB/s eta 0:00:01\r\u001b[K    89% |████████████████████████████▌   | 880kB 50.1MB/s eta 0:00:01\r\u001b[K    90% |████████████████████████████▉   | 890kB 51.5MB/s eta 0:00:01\r\u001b[K    91% |█████████████████████████████▏  | 901kB 51.9MB/s eta 0:00:01\r\u001b[K    92% |█████████████████████████████▌  | 911kB 52.4MB/s eta 0:00:01\r\u001b[K    93% |█████████████████████████████▉  | 921kB 52.5MB/s eta 0:00:01\r\u001b[K    94% |██████████████████████████████▏ | 931kB 53.0MB/s eta 0:00:01\r\u001b[K    95% |██████████████████████████████▌ | 942kB 54.9MB/s eta 0:00:01\r\u001b[K    96% |██████████████████████████████▉ | 952kB 54.0MB/s eta 0:00:01\r\u001b[K    97% |███████████████████████████████▏| 962kB 65.1MB/s eta 0:00:01\r\u001b[K    98% |███████████████████████████████▌| 972kB 66.2MB/s eta 0:00:01\r\u001b[K    99% |███████████████████████████████▉| 983kB 65.2MB/s eta 0:00:01\r\u001b[K    100% |████████████████████████████████| 993kB 20.3MB/s \n",
            "\u001b[?25h  Building wheel for PyDrive (setup.py) ... \u001b[?25ldone\n",
            "\u001b[?25hGo to this URL in a browser: https://accounts.google.com/o/oauth2/auth?client_id=947318989803-6bn6qk8qdgf4n4g3pfee6491hc0brc4i.apps.googleusercontent.com&redirect_uri=urn%3Aietf%3Awg%3Aoauth%3A2.0%3Aoob&scope=email%20https%3A%2F%2Fwww.googleapis.com%2Fauth%2Fdocs.test%20https%3A%2F%2Fwww.googleapis.com%2Fauth%2Fdrive%20https%3A%2F%2Fwww.googleapis.com%2Fauth%2Fdrive.photos.readonly%20https%3A%2F%2Fwww.googleapis.com%2Fauth%2Fpeopleapi.readonly&response_type=code\n",
            "\n",
            "Enter your authorization code:\n",
            "··········\n",
            "Mounted at /content/drive\n"
          ],
          "name": "stdout"
        }
      ]
    },
    {
      "metadata": {
        "id": "KPv4C1zk0ZlU",
        "colab_type": "code",
        "colab": {}
      },
      "cell_type": "code",
      "source": [
        "WORKING_DIRECTORY = os.getcwd()\n",
        "WORKING_DIRECTORY += '/drive/My Drive/FINAL TEXT FILES/C1E040_FINAL.txt'\n",
        "regex = re.compile('[^a-zA-Z ]')"
      ],
      "execution_count": 0,
      "outputs": []
    },
    {
      "metadata": {
        "id": "4ejdTPzQwyON",
        "colab_type": "code",
        "outputId": "e2b7905b-9ffe-4f7e-e987-fe93e19bc987",
        "colab": {
          "base_uri": "https://localhost:8080/",
          "height": 34
        }
      },
      "cell_type": "code",
      "source": [
        "class player_wc:\n",
        "  \n",
        "  def __init__(self):\n",
        "    #store a dict containg Char name + Counter\n",
        "    self.Counter_Dict = defaultdict(lambda: (Counter()))\n",
        "    \n",
        "  def Process_Script(self, file_path):\n",
        "    current_file = open(file_path)\n",
        "    #Parsing File\n",
        "    for line in current_file.readlines():\n",
        "      #If line conatins ':' a new person is talking\n",
        "      if (line.find(': ') != -1):\n",
        "        text = line.split(\": \")\n",
        "        #Update Name var and add dialogue\n",
        "        characterName = text[0].upper()\n",
        "        self.Counter_Dict[characterName].update(regex.sub('', text[1]).upper().split())\n",
        "      else:\n",
        "        #Same Character talking, just add dialogue\n",
        "        text[1] = line.strip()\n",
        "        self.Counter_Dict[characterName].update(regex.sub('', text[1]).upper().split())\n",
        "    \n",
        "  \n",
        "  def get_counter(self, character_name):\n",
        "    \"\"\"\n",
        "    Get word count object for a character.\n",
        "    \n",
        "    Args:\n",
        "      character_name: Character to retrieve word count object for\n",
        "      \n",
        "    Returns:\n",
        "      Counter object with all of specified character's dialogue\n",
        "    \"\"\"\n",
        "    return self.Counter_Dict[character_name.upper()]  \n",
        "\n",
        "    \n",
        "player_wc = player_wc()\n",
        "#player_wc.Counter_Dict['MATT'].update(regex.sub('', 'HOW DO YOU WANNA DO THIS').split())\n",
        "  #Generalized:\n",
        "#player_wc.CounterDict[characterName].update(regex.sub('', LineOfText).toupper.split())\n",
        "player_wc.Process_Script(WORKING_DIRECTORY)\n",
        "player_wc.get_counter('Sam').most_common(10)\n",
        "#for full_path in sorted(glob.glob(WORKING_DIRECTORY + '/drive/My Drive/FINAL TEXT FILES/*.txt')):\n",
        "#  if(full_path.rfind('C1E') != -1):\n",
        "    \n",
        "    #print(f\"File {full_path} found!\")\n",
        "  #Now parse each file contating 'C1E...' and store them as I please,\n",
        "  #need to look at the class Emerson made\n",
        "  #I think it was a tuples of character_names : [words said: counter]"
      ],
      "execution_count": 0,
      "outputs": [
        {
          "output_type": "execute_result",
          "data": {
            "text/plain": [
              "[]"
            ]
          },
          "metadata": {
            "tags": []
          },
          "execution_count": 11
        }
      ]
    }
  ]
}